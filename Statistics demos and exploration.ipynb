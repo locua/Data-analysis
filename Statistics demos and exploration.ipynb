{
 "cells": [
  {
   "cell_type": "markdown",
   "id": "045882bf",
   "metadata": {},
   "source": [
    "# Binomial distribution simulation"
   ]
  },
  {
   "cell_type": "code",
   "execution_count": 12,
   "id": "629a93f7",
   "metadata": {},
   "outputs": [],
   "source": [
    "import random\n",
    "import matplotlib.pyplot as plt\n",
    "import time"
   ]
  },
  {
   "cell_type": "code",
   "execution_count": 28,
   "id": "5cd07d69",
   "metadata": {},
   "outputs": [
    {
     "name": "stdout",
     "output_type": "stream",
     "text": [
      "Retrieve random value: 0.7397110115910924\n",
      "Time to execute: 0.00048089027404785156\n"
     ]
    }
   ],
   "source": [
    "start = time.time()\n",
    "print(\"Retrieve random value:\",random.random())\n",
    "print(\"Time to execute:\", time.time()-start)"
   ]
  },
  {
   "cell_type": "code",
   "execution_count": 29,
   "id": "47ae9cf3",
   "metadata": {},
   "outputs": [
    {
     "name": "stdout",
     "output_type": "stream",
     "text": [
      "Retrieve random value: 0.4216596623830071\n",
      "Time to execute: 0.0012941360473632812\n"
     ]
    }
   ],
   "source": [
    "start = time.time()\n",
    "print(\"Retrieve random value:\",random.SystemRandom().random())\n",
    "print(\"Time to execute:\", time.time()-start)"
   ]
  },
  {
   "cell_type": "code",
   "execution_count": 53,
   "id": "b0e05f61",
   "metadata": {},
   "outputs": [],
   "source": [
    "def simulation(t, s):\n",
    "    \"\"\"Simulate coin toss experiment, plotting histograms for a simulation with each given sample size.\n",
    "    \n",
    "    Parameters\n",
    "    ----------\n",
    "    t : int\n",
    "        Number of trials.\n",
    "    y : list\n",
    "        List of numbers of sample sizes for each experiment. \n",
    "    \n",
    "    Returns\n",
    "    -------\n",
    "    Null\n",
    "    \"\"\"\n",
    "    f,a = plt.subplots(1, len(s), figsize=(20, 5))\n",
    "    experiments = []\n",
    "    for idx,ax in enumerate(f.axes):\n",
    "        num_trials = t\n",
    "        num_samples = s\n",
    "        out = []\n",
    "        for i in range(s[idx]):\n",
    "            heads = 0\n",
    "            for j in range(num_trials):\n",
    "                if random.random()<0.5:\n",
    "                    heads+=1  #if random number is less than 0.5 count a head\n",
    "            out.append(heads)\n",
    "        ax.hist(out, bins=range(0, 11))\n",
    "        ax.set_xlabel(\"Number of heads\")\n",
    "        if(idx==0):\n",
    "            ax.set_ylabel(\"Frequency\")\n",
    "\n",
    "?simulation"
   ]
  },
  {
   "cell_type": "code",
   "execution_count": 54,
   "id": "98c44f46",
   "metadata": {},
   "outputs": [
    {
     "data": {
      "image/png": "[encoded data removed]",
      "text/plain": [
       "<Figure size 1440x360 with 4 Axes>"
      ]
     },
     "metadata": {
      "needs_background": "light"
     },
     "output_type": "display_data"
    }
   ],
   "source": [
    "simulation(10, [10, 100, 1000, 100000])"
   ]
  }
 ],
 "metadata": {
  "kernelspec": {
   "display_name": "Python 3 (ipykernel)",
   "language": "python",
   "name": "python3"
  },
  "language_info": {
   "codemirror_mode": {
    "name": "ipython",
    "version": 3
   },
   "file_extension": ".py",
   "mimetype": "text/x-python",
   "name": "python",
   "nbconvert_exporter": "python",
   "pygments_lexer": "ipython3",
   "version": "3.10.4"
  }
 },
 "nbformat": 4,
 "nbformat_minor": 5
}
